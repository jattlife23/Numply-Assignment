{
  "metadata": {
    "kernelspec": {
      "name": "python",
      "display_name": "Python (Pyodide)",
      "language": "python"
    },
    "language_info": {
      "codemirror_mode": {
        "name": "python",
        "version": 3
      },
      "file_extension": ".py",
      "mimetype": "text/x-python",
      "name": "python",
      "nbconvert_exporter": "python",
      "pygments_lexer": "ipython3",
      "version": "3.8"
    }
  },
  "nbformat_minor": 4,
  "nbformat": 4,
  "cells": [
    {
      "cell_type": "markdown",
      "source": "# Theoretical Questions:",
      "metadata": {}
    },
    {
      "cell_type": "markdown",
      "source": "## 1. Explain the purpose and advantages of NumPy in scientific computing and data analysis. How does it enhance Python's capabilities for numerical operations?",
      "metadata": {}
    },
    {
      "cell_type": "markdown",
      "source": "#### NumPy, short for Numerical Python, is a powerful library in Python that is essential for scientific computing and data analysis. Here are its main purposes and advantages:\n\n#### Purpose of NumPy\n#### 1. Numerical Computing: NumPy provides support for large, multi-dimensional arrays and matrices, along with a collection of mathematical functions to operate on these arrays.\n#### 2. Data Analysis: It serves as the foundational library for data analysis in Python, often used in conjunction with libraries like pandas and SciPy.\n#### 3. Performance Enhancement: NumPy is designed for high-performance computations, making it suitable for tasks that require heavy numerical operations.",
      "metadata": {}
    },
    {
      "cell_type": "markdown",
      "source": "#### Advantages of NumPy\n#### 1.Efficient Array Handling:\n#### ~NumPy’s ndarray allows for storing and manipulating large datasets in a structured way, optimized for performance compared to native Python lists.\n#### ~It supports element-wise operations, enabling concise and clear mathematical computations without the need for loops.\n#### 2.Performance:\n#### ~NumPy is implemented in C and Fortran, which makes it significantly faster for numerical operations than pure Python, especially for large datasets.\n#### ~Vectorized operations minimize overhead and speed up execution.\n#### 3.Broadcasting:\n#### ~This feature allows NumPy to perform operations on arrays of different shapes seamlessly, enabling flexibility and reducing the need for explicit reshaping.\n#### 4.Comprehensive Mathematical Functions:\n#### ~NumPy includes a wide array of mathematical functions (e.g., trigonometric, statistical, linear algebra) that simplify complex calculations and enhance productivity.\n#### 5.Memory Efficiency:\n#### ~NumPy arrays consume less memory than Python lists because they store elements in contiguous memory blocks, improving cache performance and overall speed.\n#### 6.Integration with Other Libraries:\n#### ~As a core library, NumPy is integrated with many other scientific libraries, such as SciPy (for additional scientific computing functions), pandas (for data manipulation), and Matplotlib (for data visualization), creating a robust ecosystem for data science.\n#### 7.Rich Community and Documentation:\n#### ~NumPy has extensive documentation and a large user community, making it easier to find support, tutorials, and resources for problem-solving.",
      "metadata": {}
    },
    {
      "cell_type": "markdown",
      "source": "#### Enhancing Python's Numerical Capabilities\n#### NumPy enhances Python’s capabilities for numerical operations in several ways:\n\n#### ~Optimized Data Structures: By providing ndarray, NumPy allows for efficient manipulation and storage of large datasets, which is critical in scientific computing.\n#### ~Fast Execution of Operations: The library’s ability to perform operations at the C level leads to significant performance improvements, especially for matrix and vector computations.\n#### ~Simplified Syntax: NumPy’s array-based operations make it possible to express complex mathematical operations in a more readable and maintainable manner.\n#### ~Support for Advanced Math: With built-in support for linear algebra, Fourier transforms, and random number generation, NumPy enables users to perform sophisticated calculations with ease.",
      "metadata": {}
    },
    {
      "cell_type": "markdown",
      "source": "## 2. Compare and contrast np.mean() and np.average() functions in NumPy. When would you use one over the other?",
      "metadata": {}
    },
    {
      "cell_type": "markdown",
      "source": "#### In NumPy, both `np.mean()` and `np.average()` are used to compute averages, but they have some key differences in functionality and usage:\n\n#### `np.mean()`\n#### - **Functionality**: Computes the arithmetic mean of the input array.\n#### - **Syntax**: `np.mean(a, axis=None, dtype=None, out=None, keepdims=False)`\n#### - **Default Behavior**: Calculates the mean of all elements along the specified axis.\n#### - **Use Case**: Use `np.mean()` when you simply need the average of an array without any weighting.\n\n#### `np.average()`\n#### - **Functionality**: Computes the weighted average. If weights are provided, it calculates the average based on those weights.\n#### - **Syntax**: `np.average(a, axis=None, weights=None, returned=False)`\n#### - **Weights**: If `weights` are specified, they must be the same shape as the input array (or broadcastable to it).\n#### - **Default Behavior**: If no weights are provided, it behaves like `np.mean()`.\n#### - **Use Case**: Use `np.average()` when you need to compute a weighted average, such as when some elements of the dataset contribute more to the average than others.\n\n#### When to Use Each\n#### -*Use `np.mean()`**:\n#### - When you want the simple arithmetic mean.\n#### - When no weights are involved.\n  \n#### - **Use `np.average()`**:\n  #### - When you need to account for different weights in your data.\n  #### - When you want the flexibility of both weighted and unweighted averages.\n\n#### Example\n\n#### ```python\n#### import numpy as np\n\n#### data = np.array([1, 2, 3, 4, 5])\n\n#### Simple mean\n#### mean_result = np.mean(data)  # 3.0\n\n#### Weighted average\n#### weights = np.array([1, 1, 1, 1, 5])  # Last element has more weight\n#### weighted_avg_result = np.average(data, weights=weights)  # 4.0\n```\n\n#### In summary, choose `np.mean()` for straightforward averaging and `np.average()` when you need to include weights in your calculations.",
      "metadata": {}
    },
    {
      "cell_type": "markdown",
      "source": "## 3. Describe the methods for reversing a NumPy array along different axes. Provide examples for 1D and 2D arrays.",
      "metadata": {}
    },
    {
      "cell_type": "markdown",
      "source": "#### Reversing a NumPy array can be accomplished using slicing, the `np.flip()` function, or the `np.flipud()` and `np.fliplr()` functions for specific axes. Here's how to do it for both 1D and 2D arrays:\n\n#### Reversing a 1D Array\n\n#### 1. **Using Slicing**:\n#### - You can reverse a 1D array by slicing it with a step of `-1`.\n   \n ```python\n import numpy as np\n\n   arr_1d = np.array([1, 2, 3, 4, 5])\n   reversed_1d = arr_1d[::-1]\n   print(reversed_1d)  # Output: [5 4 3 2 1]\n   ```\n\n#### 2. **Using `np.flip()`**:\n#### - You can also use `np.flip()` to reverse the array.\n   \n   ```python\n   reversed_1d_flip = np.flip(arr_1d)\n   print(reversed_1d_flip)  # Output: [5 4 3 2 1]\n   ```\n\n#### Reversing a 2D Array\n\n#### 1. **Reversing along a specific axis using `np.flip()`**:\n   - You can specify the axis along which to flip the array.\n   \n   ```python\n   arr_2d = np.array([[1, 2, 3],\n                      [4, 5, 6],\n                      [7, 8, 9]])\n\n   # Reverse along the first axis (rows)\n   reversed_2d_rows = np.flip(arr_2d, axis=0)\n   print(reversed_2d_rows)\n   # Output:\n   # [[7 8 9]\n   #  [4 5 6]\n   #  [1 2 3]]\n\n   # Reverse along the second axis (columns)\n   reversed_2d_cols = np.flip(arr_2d, axis=1)\n   print(reversed_2d_cols)\n   # Output:\n   # [[3 2 1]\n   #  [6 5 4]\n   #  [9 8 7]]\n   ```\n\n#### 2. **Using `np.flipud()` and `np.fliplr()`**:\n   - `np.flipud()` flips the array upside down (along the vertical axis), while `np.fliplr()` flips it left to right (along the horizontal axis).\n\n   ```python\n   # Flip up-down\n   flipped_ud = np.flipud(arr_2d)\n   print(flipped_ud)\n   # Output:\n   # [[7 8 9]\n   #  [4 5 6]\n   #  [1 2 3]]\n\n   # Flip left-right\n   flipped_lr = np.fliplr(arr_2d)\n   print(flipped_lr)\n   # Output:\n   # [[3 2 1]\n   #  [6 5 4]\n   #  [9 8 7]]\n   ```\n\n#### Summary\n#### - **1D Arrays**: Reverse using slicing (`arr[::-1]`) or `np.flip(arr)`.\n#### - **2D Arrays**: Reverse using `np.flip(arr, axis)` for specific axes, or use `np.flipud(arr)` for up-down and `np.fliplr(arr)` for left-right reversals.",
      "metadata": {}
    },
    {
      "cell_type": "markdown",
      "source": "## 4. How can you determine the data type of elements in a NumPy array? Discuss the importance of data types in memory management and performance.",
      "metadata": {}
    },
    {
      "cell_type": "markdown",
      "source": "#### In NumPy, you can determine the data type of elements in an array using the `.dtype` attribute. Here’s how you can do it:\n\n#### Determining Data Type\n\n#### 1. **Using `.dtype`**:\n   You can simply access the `.dtype` attribute of a NumPy array to check its data type.\n\n   ```python\n   import numpy as np\n\n   arr = np.array([1, 2, 3], dtype=np.int32)\n   print(arr.dtype)  # Output: int32\n   ```\n\n#### 2. **Creating Arrays with Different Data Types**:\n   You can specify the data type when creating an array, and you can also check the data type of arrays created without explicitly setting the dtype.\n\n   ```python\n   arr_float = np.array([1.0, 2.0, 3.0])\n   print(arr_float.dtype)  # Output: float64\n\n   arr_str = np.array(['apple', 'banana', 'cherry'])\n   print(arr_str.dtype)  # Output: <U6 (Unicode string of max length 6)\n   ```\n\n#### Importance of Data Types in Memory Management and Performance\n\n#### 1. **Memory Efficiency**:\n   - Different data types require different amounts of memory. For example, `int32` uses 4 bytes per element, while `float64` uses 8 bytes. Choosing an appropriate data type can significantly reduce the memory footprint of your application, especially when working with large datasets.\n   - Using smaller data types (e.g., `np.int8` instead of `np.int64`) can be beneficial when the range of values allows it, leading to lower memory consumption.\n\n#### 2. **Performance**:\n   - Operations on arrays with smaller data types often execute faster due to less data being processed. For instance, operations on `float32` arrays will generally be faster than on `float64` arrays.\n   - Certain operations may be optimized for specific data types, leading to improved performance in numerical computations, especially in scientific computing and machine learning.\n\n#### 3. **Compatibility**:\n   - Data types ensure that operations between arrays are compatible. For instance, if you try to add an `int` array to a `float` array, NumPy will automatically promote the `int` array to `float` for the operation, but understanding and managing data types can help avoid unintended promotions or data loss.\n\n#### 4. **Precision**:\n   - Different data types offer varying levels of precision. For example, `float32` has less precision than `float64`, which can lead to errors in calculations when dealing with very large or very small numbers. Understanding the implications of these differences is crucial in applications that require high precision, like financial calculations or scientific simulations.\n\n#### Conclusion\n\n#### Understanding and managing data types in NumPy is essential for effective memory management, performance optimization, and ensuring the correctness of numerical computations. ",
      "metadata": {}
    },
    {
      "cell_type": "markdown",
      "source": "## 5. Define ndarrays in NumPy and explain their key features. How do they differ from standard Python lists?",
      "metadata": {}
    },
    {
      "cell_type": "markdown",
      "source": "#### In NumPy, **ndarrays** (N-dimensional arrays) are the core data structure used for representing and manipulating multi-dimensional arrays. They offer several key features that distinguish them from standard Python lists:\n\n#### Key Features of ndarrays\n\n#### 1. **Homogeneous Data Types**:\n   - All elements in a NumPy array must be of the same data type (e.g., all integers, floats, etc.). This uniformity allows for more efficient memory usage and faster computation compared to Python lists, which can contain mixed data types.\n\n#### 2. **Multi-dimensionality**:\n   - ndarrays can have any number of dimensions, making them suitable for representing scalars (0D), vectors (1D), matrices (2D), and higher-dimensional data (3D, 4D, etc.).\n\n#### 3. **Fixed Size**:\n   - Once created, the size of an ndarray cannot be changed. This fixed size allows NumPy to optimize storage and performance.\n\n#### 4. **Performance**:\n   - NumPy arrays are implemented in C, allowing for vectorized operations that are significantly faster than equivalent operations on Python lists. This is particularly beneficial for large datasets.\n\n#### 5. **Broadcasting**:\n   - NumPy supports broadcasting, which allows for operations on arrays of different shapes without the need for explicit looping or reshaping. This feature enhances code efficiency and readability.\n\n#### 6. **Built-in Functions**:\n   - NumPy provides a rich set of mathematical functions and operations that can be performed directly on arrays, such as element-wise addition, subtraction, multiplication, and various statistical operations (mean, median, etc.).\n\n#### 7. **Advanced Indexing and Slicing**:\n   - ndarrays support advanced indexing techniques, including boolean indexing and fancy indexing, which provide greater flexibility when selecting and manipulating data.\n\n### Differences from Standard Python Lists\n\n#### 1. **Data Type Flexibility**:\n   - **ndarrays**: Homogeneous data types allow for optimized performance.\n   - **Lists**: Can contain elements of mixed types, which can lead to inefficiencies.\n\n#### 2. **Performance**:\n   - **ndarrays**: Faster for numerical computations due to optimized C implementation and support for vectorized operations.\n   - **Lists**: Slower for large-scale numerical tasks because operations are executed element-wise and often require explicit loops.\n\n#### 3. **Memory Usage**:\n   - **ndarrays**: More memory-efficient due to contiguous memory allocation and fixed data types.\n   - **Lists**: Can be less memory-efficient since they are more flexible and may include overhead for different types.\n\n#### 4. **Functionality**:\n   - **ndarrays**: Equipped with a wide range of mathematical functions and methods for linear algebra, statistics, and more.\n   - **Lists**: Provide basic functionalities, such as appending, slicing, and indexing, but lack built-in numerical operations.\n\n#### 5. **Shape and Dimensions**:\n   - **ndarrays**: Can easily represent multi-dimensional data and support operations across different dimensions.\n   - **Lists**: Multi-dimensional lists (like lists of lists) require manual handling and do not support matrix operations directly.\n\n### Example\n\nHere's a comparison of basic operations:\n\n```python\nimport numpy as np\n\n# Using a Python list\nlist_data = [1, 2, 3, 4]\nlist_squared = [x**2 for x in list_data]  # List comprehension\nprint(list_squared)  # Output: [1, 4, 9, 16]\n\n# Using a NumPy array\narray_data = np.array([1, 2, 3, 4])\narray_squared = array_data ** 2  # Element-wise operation\nprint(array_squared)  # Output: [ 1  4  9 16]\n```\n\n##### In this example, the operation on the NumPy array is both concise and efficient compared to the list comprehension approach with a Python list. Overall, ndarrays provide a powerful and efficient way to handle numerical data in Python, especially for scientific computing and data analysis.",
      "metadata": {}
    },
    {
      "cell_type": "markdown",
      "source": "## 6. Analyze the performance benefits of NumPy arrays over Python lists for large-scale numerical operations.",
      "metadata": {}
    },
    {
      "cell_type": "markdown",
      "source": "#### NumPy arrays provide significant performance benefits over Python lists for large-scale numerical operations due to several key factors. Here’s a detailed analysis:\n\n#### 1. **Contiguous Memory Allocation**\n- **NumPy**: Arrays are stored in contiguous blocks of memory, which allows for more efficient data access and better cache performance. This means that when the CPU accesses elements, it can take advantage of spatial locality, leading to faster processing.\n- **Python Lists**: Lists are composed of pointers to objects, which can be scattered in memory. This non-contiguous allocation can slow down access times, especially for large datasets.\n\n#### 2. **Homogeneous Data Types**\n- **NumPy**: All elements in a NumPy array are of the same data type, allowing for optimized storage and efficient processing. This uniformity eliminates the overhead of type checking during operations.\n- **Python Lists**: Lists can contain mixed data types, which require additional memory and processing time for type handling, leading to slower performance in numerical computations.\n\n#### 3. **Vectorized Operations**\n- **NumPy**: Supports vectorized operations that allow you to perform element-wise computations directly on the entire array without explicit loops. This results in clearer code and significant speed improvements because operations are implemented in optimized C code.\n- **Python Lists**: Require explicit iteration (e.g., with for-loops) for element-wise operations, which can be considerably slower, especially as the size of the list increases.\n\n#### 4. **Broadcasting**\n- **NumPy**: Provides broadcasting capabilities, which enable operations on arrays of different shapes without the need for manual reshaping or duplication of data. This leads to concise and efficient code.\n- **Python Lists**: Lacking built-in broadcasting, operations involving lists of different lengths or dimensions require manual handling, which can be cumbersome and inefficient.\n\n#### 5. **Optimized Mathematical Functions**\n- **NumPy**: Comes with a rich set of optimized mathematical functions that are implemented in C, which allows for faster execution of complex operations (e.g., linear algebra, statistical computations).\n- **Python Lists**: Do not have built-in support for mathematical operations. Using libraries like `math` or `statistics` would require manual implementation and iteration, making them slower.\n\n#### 6. **Reduction in Overhead**\n- **NumPy**: The fixed size and homogeneous nature of arrays mean less overhead when performing operations. This is particularly advantageous when manipulating large datasets.\n- **Python Lists**: Have higher overhead because of dynamic resizing, type checks, and pointer storage.\n\n#### Performance Comparison Example\n\nHere’s a simple comparison of the performance of NumPy arrays versus Python lists for a large-scale operation:\n\n```python\nimport numpy as np\nimport time\n\n#### Create a large array\nsize = 10**6\n\n#### Using Python lists\nlist_data = list(range(size))\nstart_time = time.time()\nlist_squared = [x**2 for x in list_data]  # List comprehension\nlist_time = time.time() - start_time\nprint(f\"Python list time: {list_time:.6f} seconds\")\n\n#### Using NumPy arrays\narray_data = np.arange(size)\nstart_time = time.time()\narray_squared = array_data ** 2  # Element-wise operation\narray_time = time.time() - start_time\nprint(f\"NumPy array time: {array_time:.6f} seconds\")\n```\n\n#### Expected Output\nYou would typically observe that the NumPy operation is significantly faster than the list comprehension due to the reasons outlined above. \n\n#### Conclusion\nOverall, NumPy arrays offer substantial performance benefits over Python lists for large-scale numerical operations. Their design facilitates efficient memory usage, optimized processing speed, and ease of use, making them the preferred choice for numerical computing in Python, particularly in scientific and data-intensive applications.",
      "metadata": {}
    },
    {
      "cell_type": "markdown",
      "source": "## 7. Compare vstack() and hstack() functions in NumPy. Provide examples demonstrating their usage and output.",
      "metadata": {}
    },
    {
      "cell_type": "markdown",
      "source": "#### In NumPy, `vstack()` and `hstack()` are functions used to stack arrays vertically and horizontally, respectively. Here’s a detailed comparison along with examples to illustrate their usage:\n\n#### `numpy.vstack()`\n- **Function**: Stacks arrays in sequence vertically (row-wise).\n- **Input**: Arrays must have the same shape along all but the first axis.\n\n#### Example of `vstack()`\n\n```python\nimport numpy as np\n\n#### Create two 2D arrays\narray1 = np.array([[1, 2], [3, 4]])\narray2 = np.array([[5, 6]])\n\n#### Use vstack to stack them vertically\nresult_vstack = np.vstack((array1, array2))\nprint(\"Result of vstack:\")\nprint(result_vstack)\n```\n\n#### Output of `vstack()`\n```\nResult of vstack:\n[[1 2]\n [3 4]\n [5 6]]\n```\n\n#### `numpy.hstack()`\n- **Function**: Stacks arrays in sequence horizontally (column-wise).\n- **Input**: Arrays must have the same shape along all but the second axis.\n\n#### Example of `hstack()`\n\n```python\n#### Create two 2D arrays\narray3 = np.array([[1, 2], [3, 4]])\narray4 = np.array([[5], [6]])\n\n#### Use hstack to stack them horizontally\nresult_hstack = np.hstack((array3, array4))\nprint(\"Result of hstack:\")\nprint(result_hstack)\n```\n\n#### Output of `hstack()`\n```\nResult of hstack:\n[[1 2 5]\n [3 4 6]]\n```\n\n#### Summary of Differences\n- **Direction of Stacking**:\n  - `vstack()`: Stacks arrays vertically (adds rows).\n  - `hstack()`: Stacks arrays horizontally (adds columns).\n  \n- **Shape Requirements**:\n  - For `vstack()`, arrays must have the same number of columns.\n  - For `hstack()`, arrays must have the same number of rows.\n\n#### These functions are useful for combining datasets in different orientations, allowing for flexible data manipulation in NumPy.",
      "metadata": {}
    },
    {
      "cell_type": "markdown",
      "source": "## 8. Explain the differences between fliplr() and flipud() methods in NumPy, including their effects on various array dimensions.",
      "metadata": {}
    },
    {
      "cell_type": "markdown",
      "source": "#### In NumPy, `fliplr()` and `flipud()` are functions used to flip arrays in different orientations. Here’s a detailed explanation of their differences and how they affect various array dimensions:\n\n#### 1. **Functionality**\n\n- **`fliplr()`**:\n  - **Description**: Flips an array from left to right (horizontally).\n  - **Effect**: The columns of the array are reversed.\n\n- **`flipud()`**:\n  - **Description**: Flips an array from up to down (vertically).\n  - **Effect**: The rows of the array are reversed.\n\n#### 2. **Effect on Different Dimensions**\n\n- **1D Arrays**:\n  - Both `fliplr()` and `flipud()` have the same effect on 1D arrays, as there is no distinction between rows and columns.\n  \n  ```python\n  import numpy as np\n\n  arr_1d = np.array([1, 2, 3, 4])\n  print(\"Original 1D array:\", arr_1d)\n\n  flipped_lr_1d = np.fliplr(arr_1d.reshape(1, -1))  # Reshape for fliplr\n  flipped_ud_1d = np.flipud(arr_1d.reshape(1, -1))  # Reshape for flipud\n\n  print(\"Flipped Left-Right (1D):\", flipped_lr_1d.flatten())\n  print(\"Flipped Up-Down (1D):\", flipped_ud_1d.flatten())\n  ```\n\n  **Output**:\n  ```\n  Original 1D array: [1 2 3 4]\n  Flipped Left-Right (1D): [4 3 2 1]\n  Flipped Up-Down (1D): [4 3 2 1]\n  ```\n\n- **2D Arrays**:\n  - For 2D arrays, the effects are distinct:\n\n  ```python\n  arr_2d = np.array([[1, 2, 3],\n                     [4, 5, 6],\n                     [7, 8, 9]])\n\n  print(\"Original 2D array:\\n\", arr_2d)\n\n  flipped_lr_2d = np.fliplr(arr_2d)\n  flipped_ud_2d = np.flipud(arr_2d)\n\n  print(\"Flipped Left-Right (2D):\\n\", flipped_lr_2d)\n  print(\"Flipped Up-Down (2D):\\n\", flipped_ud_2d)\n  ```\n\n  **Output**:\n  ```\n  Original 2D array:\n  [[1 2 3]\n   [4 5 6]\n   [7 8 9]]\n  Flipped Left-Right (2D):\n  [[3 2 1]\n   [6 5 4]\n   [9 8 7]]\n  Flipped Up-Down (2D):\n  [[7 8 9]\n   [4 5 6]\n   [1 2 3]]\n  ```\n\n#### 3. **Summary of Differences**\n- **Direction of Flipping**:\n  - `fliplr()`: Flips the array horizontally (left to right).\n  - `flipud()`: Flips the array vertically (up to down).\n\n- **Dimensional Effects**:\n  - **1D Arrays**: Both functions have the same effect.\n  - **2D Arrays**: The effects are clearly different, affecting the arrangement of rows and columns.\n\n#### Conclusion\nBoth `fliplr()` and `flipud()` are useful for data manipulation in NumPy, allowing you to reverse the orientation of arrays easily, depending on your needs in data analysis or preprocessing.",
      "metadata": {}
    },
    {
      "cell_type": "markdown",
      "source": "## 9. Discuss the functionality of the array_split() method in NumPy. How does it handle uneven splits?",
      "metadata": {}
    },
    {
      "cell_type": "markdown",
      "source": "#### The `array_split()` method in NumPy is used to split an array into multiple sub-arrays along a specified axis. This function is particularly useful when you want to partition an array into smaller chunks for processing or analysis. \n\n#### Key Features of `array_split()`\n\n1. **Functionality**:\n   - `numpy.array_split(ary, indices_or_sections, axis=0)`\n   - **Parameters**:\n     - **`ary`**: The input array to be split.\n     - **`indices_or_sections`**: This can be an integer (number of equal sections) or an array of indices at which to split the array.\n     - **`axis`**: The axis along which to split the array (default is `0`).\n\n2. **Return Value**:\n   - The function returns a list of sub-arrays after the split.\n\n3. **Handling Uneven Splits**:\n   - If the array cannot be split evenly, `array_split()` handles this gracefully by distributing the extra elements among the resulting sub-arrays. For example, if you try to split an array of length 10 into 3 sections, the result will contain two arrays of length 3 and one array of length 4.\n\n#### Examples\n\n#### Example 1: Even Split\n\n```python\nimport numpy as np\n\narr = np.array([1, 2, 3, 4, 5, 6])\n\n# Split into 3 equal parts\nsplit_arrays = np.array_split(arr, 3)\nprint(\"Split into 3 equal parts:\")\nfor i, sub_array in enumerate(split_arrays):\n    print(f\"Part {i + 1}: {sub_array}\")\n```\n\n**Output**:\n```\nSplit into 3 equal parts:\nPart 1: [1 2]\nPart 2: [3 4]\nPart 3: [5 6]\n```\n\n#### Example 2: Uneven Split\n\n```python\narr_uneven = np.array([1, 2, 3, 4, 5, 6, 7])\n\n# Split into 3 parts\nsplit_arrays_uneven = np.array_split(arr_uneven, 3)\nprint(\"\\nSplit into 3 parts (uneven):\")\nfor i, sub_array in enumerate(split_arrays_uneven):\n    print(f\"Part {i + 1}: {sub_array}\")\n```\n\n**Output**:\n```\nSplit into 3 parts (uneven):\nPart 1: [1 2]\nPart 2: [3 4]\nPart 3: [5 6 7]\n```\n\n#### Summary\n- `array_split()` is a versatile method for partitioning arrays in NumPy, allowing for both even and uneven splits.\n- It automatically handles cases where the array cannot be evenly divided, ensuring that all elements are included in the resulting sub-arrays.\n- This functionality makes `array_split()` particularly useful for data preprocessing and management in numerical computing tasks.",
      "metadata": {}
    },
    {
      "cell_type": "markdown",
      "source": "## 10. Explain the concepts of vectorization and broadcasting in NumPy. How do they contribute to efficient array operations?",
      "metadata": {}
    },
    {
      "cell_type": "markdown",
      "source": "#### In NumPy, **vectorization** and **broadcasting** are two fundamental concepts that significantly enhance the efficiency of array operations. Here’s a detailed explanation of each concept and their contributions to performance:\n\n#### 1. Vectorization\n\n**Definition**:\nVectorization refers to the process of converting scalar operations (operations on single data points) into array operations (operations on entire arrays at once). This is achieved through the use of NumPy's array functions that are optimized for performance.\n\n**Key Features**:\n- **Eliminates Loops**: Instead of using explicit loops to perform operations on each element, vectorized operations allow you to apply operations across entire arrays in a single step.\n- **Optimized Performance**: NumPy's underlying implementation is written in C and optimized for performance, allowing it to execute operations much faster than traditional Python loops.\n\n**Example**:\n\n```python\nimport numpy as np\n\n# Create two large arrays\na = np.random.rand(1000000)\nb = np.random.rand(1000000)\n\n# Vectorized operation\nc = a + b  # This adds each element of a to the corresponding element of b\n```\n\nIn this example, the addition operation is applied to all elements of the arrays `a` and `b` in one go, resulting in a new array `c` without explicit iteration.\n\n#### 2. Broadcasting\n\n**Definition**:\nBroadcasting is a powerful mechanism that allows NumPy to perform arithmetic operations on arrays of different shapes. It enables smaller arrays to be \"stretched\" to match the shape of larger arrays during operations, without the need to create copies of the data.\n\n**Key Features**:\n- **Automatic Expansion**: When performing operations between arrays of different shapes, NumPy automatically expands the smaller array across the dimensions of the larger array to make their shapes compatible.\n- **Memory Efficiency**: Broadcasting does not require additional memory for the expansion; it operates in a way that avoids unnecessary data duplication.\n\n**Example**:\n\n```python\n# Create a 1D array and a 2D array\na = np.array([1, 2, 3])         # Shape (3,)\nb = np.array([[10], [20], [30]])  # Shape (3, 1)\n\n# Broadcasting\nresult = a + b  # a is broadcast to match the shape of b\nprint(result)\n```\n\n**Output**:\n```\n[[11 12 13]\n [21 22 23]\n [31 32 33]]\n```\n\nIn this example, the 1D array `a` is automatically expanded to match the dimensions of the 2D array `b`, allowing for element-wise addition.\n\n#### Contributions to Efficient Array Operations\n\n1. **Speed**: Both vectorization and broadcasting allow operations to be performed much faster compared to traditional methods that rely on explicit loops. This is especially beneficial in large-scale numerical computations commonly found in data analysis, machine learning, and scientific computing.\n\n2. **Simplicity**: They simplify code by allowing you to express complex operations in fewer lines. This leads to more readable and maintainable code.\n\n3. **Reduced Memory Usage**: Broadcasting minimizes memory usage by avoiding the need to create copies of arrays, which is particularly important when working with large datasets.\n\n4. **Avoiding Errors**: By handling shape compatibility automatically, broadcasting helps avoid common errors related to mismatched dimensions, leading to cleaner and less error-prone code.\n\n#### Conclusion\n\nVectorization and broadcasting are essential features of NumPy that contribute significantly to the library's efficiency and usability. By allowing for fast, concise, and memory-efficient operations on arrays, these concepts empower users to perform complex numerical computations with ease and speed.",
      "metadata": {}
    },
    {
      "cell_type": "markdown",
      "source": "# Practical Questions:",
      "metadata": {}
    },
    {
      "cell_type": "markdown",
      "source": "## 1. Create a 3x3 NumPy array with random integers between 1 and 100. Then, interchange its rows and columns.",
      "metadata": {}
    },
    {
      "cell_type": "markdown",
      "source": "#### You can create a 3x3 NumPy array with random integers between 1 and 100 and then interchange its rows and columns using the `numpy.random.randint()` function to generate the array, followed by the `numpy.transpose()` function or the `.T` attribute to interchange the rows and columns. Here’s how to do it:\n\n#### Code Example\n\n```python\nimport numpy as np\n\n# Create a 3x3 array with random integers between 1 and 100\narray_3x3 = np.random.randint(1, 101, size=(3, 3))\nprint(\"Original Array:\")\nprint(array_3x3)\n\n# Interchange rows and columns (transpose the array)\ntransposed_array = array_3x3.T\nprint(\"\\nTransposed Array:\")\nprint(transposed_array)\n```\n\n#### Explanation\n- `np.random.randint(1, 101, size=(3, 3))`: This generates a 3x3 array with random integers from 1 to 100.\n- `array_3x3.T`: This is the transpose of the original array, which interchanges rows and columns.\n\n#### Example Output\nThe output will look something like this (the actual numbers will vary due to randomness):\n\n```\nOriginal Array:\n[[23 45 67]\n [12 34 56]\n [78 90 11]]\n\nTransposed Array:\n[[23 12 78]\n [45 34 90]\n [67 56 11]]\n```\n\n#### In this example, the rows and columns of the original array are successfully interchanged in the transposed array.",
      "metadata": {}
    },
    {
      "cell_type": "markdown",
      "source": "## 2. Generate a 1D NumPy array with 10 elements. Reshape it into a 2x5 array, then into a 5x2 array.",
      "metadata": {}
    },
    {
      "cell_type": "markdown",
      "source": "#### You can generate a 1D NumPy array with 10 elements and then reshape it into both a 2x5 array and a 5x2 array using the `reshape()` method. Here’s how you can do this:\n\n#### Code Example\n\n```python\nimport numpy as np\n\n# Generate a 1D NumPy array with 10 elements\narray_1d = np.arange(10)  # This creates an array with elements from 0 to 9\nprint(\"Original 1D Array:\")\nprint(array_1d)\n\n# Reshape into a 2x5 array\narray_2x5 = array_1d.reshape(2, 5)\nprint(\"\\nReshaped 2x5 Array:\")\nprint(array_2x5)\n\n# Reshape into a 5x2 array\narray_5x2 = array_1d.reshape(5, 2)\nprint(\"\\nReshaped 5x2 Array:\")\nprint(array_5x2)\n```\n\n#### Explanation\n- `np.arange(10)`: Creates a 1D array with elements from 0 to 9.\n- `reshape(2, 5)`: Reshapes the array into 2 rows and 5 columns.\n- `reshape(5, 2)`: Reshapes the array into 5 rows and 2 columns.\n\n#### Example Output\nThe output will look something like this:\n\n```\nOriginal 1D Array:\n[0 1 2 3 4 5 6 7 8 9]\n\nReshaped 2x5 Array:\n[[0 1 2 3 4]\n [5 6 7 8 9]]\n\nReshaped 5x2 Array:\n[[0 1]\n [2 3]\n [4 5]\n [6 7]\n [8 9]]\n```\n\n#### In this example, the original 1D array is successfully reshaped into both a 2x5 array and a 5x2 array.",
      "metadata": {}
    },
    {
      "cell_type": "markdown",
      "source": "## 3. Create a 4x4 NumPy array with random float values. Add a border of zeros around it, resulting in a 6x6 array.",
      "metadata": {}
    },
    {
      "cell_type": "markdown",
      "source": "#### You can create a 4x4 NumPy array with random float values and then add a border of zeros around it using the `numpy.pad()` function. Here’s how to do it:\n\n#### Code Example\n\n```python\nimport numpy as np\n\n# Create a 4x4 array with random float values\narray_4x4 = np.random.rand(4, 4)\nprint(\"Original 4x4 Array:\")\nprint(array_4x4)\n\n# Add a border of zeros around the array\narray_with_border = np.pad(array_4x4, pad_width=1, mode='constant', constant_values=0)\nprint(\"\\n6x6 Array with Border of Zeros:\")\nprint(array_with_border)\n```\n\n#### Explanation\n- `np.random.rand(4, 4)`: Generates a 4x4 array with random float values between 0 and 1.\n- `np.pad(array_4x4, pad_width=1, mode='constant', constant_values=0)`: Adds a border of zeros around the original array. The `pad_width=1` specifies that one row/column of zeros should be added on all sides.\n\n#### Example Output\nThe output will look something like this (the actual random float values will vary):\n\n```\nOriginal 4x4 Array:\n[[0.77630107 0.69974373 0.02008498 0.00566371]\n [0.83852527 0.49019952 0.54043376 0.20056225]\n [0.1544111  0.59949335 0.60104656 0.08248141]\n [0.05262337 0.54094395 0.16120173 0.11737375]]\n\n6x6 Array with Border of Zeros:\n[[0.         0.         0.         0.         0.         0.        ]\n [0.77630107 0.69974373 0.02008498 0.00566371 0.         0.        ]\n [0.83852527 0.49019952 0.54043376 0.20056225 0.         0.        ]\n [0.1544111  0.59949335 0.60104656 0.08248141 0.         0.        ]\n [0.05262337 0.54094395 0.16120173 0.11737375 0.         0.        ]\n [0.         0.         0.         0.         0.         0.        ]]\n```\n\n#### In this example, the original 4x4 array is successfully surrounded by a border of zeros, resulting in a 6x6 array.",
      "metadata": {}
    },
    {
      "cell_type": "markdown",
      "source": "## 4. Using NumPy, create an array of integers from 10 to 60 with a step of 5.",
      "metadata": {}
    },
    {
      "cell_type": "markdown",
      "source": "#### You can create an array of integers from 10 to 60 with a step of 5 using the `numpy.arange()` function. Here’s how to do it:\n\n#### Code Example\n\n```python\nimport numpy as np\n\n# Create an array of integers from 10 to 60 with a step of 5\narray_integers = np.arange(10, 61, 5)\nprint(\"Array of integers from 10 to 60 with a step of 5:\")\nprint(array_integers)\n```\n\n#### Explanation\n- `np.arange(10, 61, 5)`: This function generates values starting from 10 up to (but not including) 61, with a step size of 5.\n\n#### Example Output\nThe output will be:\n\n```\nArray of integers from 10 to 60 with a step of 5:\n[10 15 20 25 30 35 40 45 50 55 60]\n```\n\n#### In this example, the resulting array contains integers starting from 10 and ending at 60, with a step of 5 between each value.",
      "metadata": {}
    },
    {
      "cell_type": "markdown",
      "source": "## 5. Create a NumPy array of strings ['python', 'numpy', 'pandas']. Apply different case transformations (uppercase, lowercase, title case, etc.) to each element.",
      "metadata": {}
    },
    {
      "cell_type": "markdown",
      "source": "#### You can create a NumPy array of strings and then apply various case transformations using the string methods available in NumPy. Here's how to do it:\n\n#### Code Example\n\n```python\nimport numpy as np\n\n# Create a NumPy array of strings\narray_strings = np.array(['python', 'numpy', 'pandas'])\n\n# Apply different case transformations\nuppercase_array = np.char.upper(array_strings)\nlowercase_array = np.char.lower(array_strings)\ntitlecase_array = np.char.title(array_strings)\ncapitalize_array = np.char.capitalize(array_strings)\n\n# Print the results\nprint(\"Original Array:\")\nprint(array_strings)\nprint(\"\\nUppercase Array:\")\nprint(uppercase_array)\nprint(\"\\nLowercase Array:\")\nprint(lowercase_array)\nprint(\"\\nTitle Case Array:\")\nprint(titlecase_array)\nprint(\"\\nCapitalized Array:\")\nprint(capitalize_array)\n```\n\n#### Explanation\n- `np.array(['python', 'numpy', 'pandas'])`: Creates a NumPy array of strings.\n- `np.char.upper()`, `np.char.lower()`, `np.char.title()`, and `np.char.capitalize()`: Apply the respective case transformations to each element in the array.\n\n#### Example Output\nThe output will look like this:\n\n```\nOriginal Array:\n['python' 'numpy' 'pandas']\n\nUppercase Array:\n['PYTHON' 'NUMPY' 'PANDAS']\n\nLowercase Array:\n['python' 'numpy' 'pandas']\n\nTitle Case Array:\n['Python' 'Numpy' 'Pandas']\n\nCapitalized Array:\n['Python' 'Numpy' 'Pandas']\n```\n\n#### In this example, different case transformations have been successfully applied to each element of the original NumPy array of strings.",
      "metadata": {}
    },
    {
      "cell_type": "markdown",
      "source": "## 6. Generate a NumPy array of words. Insert a space between each character of every word in the array.",
      "metadata": {}
    },
    {
      "cell_type": "markdown",
      "source": "#### You can generate a NumPy array of words and then insert a space between each character of every word using string manipulation functions available in NumPy. Here’s how to do it:\n\n#### Code Example\n\n```python\nimport numpy as np\n\n# Create a NumPy array of words\narray_words = np.array(['python', 'numpy', 'pandas'])\n\n# Insert a space between each character of every word\nspaced_words = np.char.join(' ', array_words)\n\n# Print the results\nprint(\"Original Array:\")\nprint(array_words)\nprint(\"\\nArray with Spaces Between Characters:\")\nprint(spaced_words)\n```\n\n#### Explanation\n- `np.array(['python', 'numpy', 'pandas'])`: Creates a NumPy array of words.\n- `np.char.join(' ', array_words)`: Joins each character in the words with a space.\n\n### Example Output\nThe output will look like this:\n\n```\nOriginal Array:\n['python' 'numpy' 'pandas']\n\nArray with Spaces Between Characters:\n['p y t h o n' 'n u m p y' 'p a n d a s']\n```\n\n#### In this example, spaces have been successfully inserted between each character of every word in the original NumPy array.",
      "metadata": {}
    },
    {
      "cell_type": "markdown",
      "source": "## 7. Create two 2D NumPy arrays and perform element-wise addition, subtraction, multiplication, and division.",
      "metadata": {}
    },
    {
      "cell_type": "markdown",
      "source": "#### You can create two 2D NumPy arrays and then perform element-wise addition, subtraction, multiplication, and division using basic arithmetic operations in NumPy. Here’s how to do it:\n\n#### Code Example\n\n```python\nimport numpy as np\n\n# Create two 2D NumPy arrays\narray1 = np.array([[1, 2, 3], \n                    [4, 5, 6]])\n\narray2 = np.array([[7, 8, 9], \n                    [10, 11, 12]])\n\n# Perform element-wise addition\naddition_result = array1 + array2\n\n# Perform element-wise subtraction\nsubtraction_result = array1 - array2\n\n# Perform element-wise multiplication\nmultiplication_result = array1 * array2\n\n# Perform element-wise division\ndivision_result = array1 / array2\n\n# Print the results\nprint(\"Array 1:\")\nprint(array1)\nprint(\"\\nArray 2:\")\nprint(array2)\n\nprint(\"\\nElement-wise Addition:\")\nprint(addition_result)\n\nprint(\"\\nElement-wise Subtraction:\")\nprint(subtraction_result)\n\nprint(\"\\nElement-wise Multiplication:\")\nprint(multiplication_result)\n\nprint(\"\\nElement-wise Division:\")\nprint(division_result)\n```\n\n#### Explanation\n- `array1` and `array2` are created as 2D NumPy arrays.\n- The arithmetic operations (`+`, `-`, `*`, `/`) are applied element-wise between the two arrays.\n\n#### Example Output\nThe output will look something like this:\n\n```\nArray 1:\n[[1 2 3]\n [4 5 6]]\n\nArray 2:\n[[ 7  8  9]\n [10 11 12]]\n\nElement-wise Addition:\n[[ 8 10 12]\n [14 16 18]]\n\nElement-wise Subtraction:\n[[-6 -6 -6]\n [-6 -6 -6]]\n\nElement-wise Multiplication:\n[[ 7 16 27]\n [40 55 72]]\n\nElement-wise Division:\n[[0.14285714 0.25       0.33333333]\n [0.4        0.45454545 0.5       ]]\n```\n\n#### In this example, you can see the results of element-wise addition, subtraction, multiplication, and division for the two 2D NumPy arrays. Each operation is performed independently on corresponding elements of the arrays.",
      "metadata": {}
    },
    {
      "cell_type": "markdown",
      "source": "## 8. Use NumPy to create a 5x5 identity matrix, then extract its diagonal elements.",
      "metadata": {}
    },
    {
      "cell_type": "markdown",
      "source": "#### You can create a 5x5 identity matrix using NumPy's `np.eye()` function and then extract its diagonal elements using `np.diagonal()`. Here’s how to do it:\n\n#### Code Example\n\n```python\nimport numpy as np\n\n# Create a 5x5 identity matrix\nidentity_matrix = np.eye(5)\nprint(\"5x5 Identity Matrix:\")\nprint(identity_matrix)\n\n# Extract the diagonal elements\ndiagonal_elements = np.diagonal(identity_matrix)\nprint(\"\\nDiagonal Elements:\")\nprint(diagonal_elements)\n```\n\n#### Explanation\n- `np.eye(5)`: Creates a 5x5 identity matrix, where all the diagonal elements are 1 and all other elements are 0.\n- `np.diagonal()`: Extracts the diagonal elements from the identity matrix.\n\n#### Example Output\nThe output will look like this:\n\n```\n5x5 Identity Matrix:\n[[1. 0. 0. 0. 0.]\n [0. 1. 0. 0. 0.]\n [0. 0. 1. 0. 0.]\n [0. 0. 0. 1. 0.]\n [0. 0. 0. 0. 1.]]\n\nDiagonal Elements:\n[1. 1. 1. 1. 1.]\n```\n\n#### In this example, you can see the 5x5 identity matrix and the extracted diagonal elements, which are all 1s.",
      "metadata": {}
    },
    {
      "cell_type": "markdown",
      "source": "## 9. Generate a NumPy array of 100 random integers between 0 and 1000. Find and display all prime numbers in this array.",
      "metadata": {}
    },
    {
      "cell_type": "markdown",
      "source": "#### To generate a NumPy array of 100 random integers between 0 and 1000 and find all the prime numbers in that array, you can follow these steps:\n\n1. Generate the random integers.\n2. Create a function to check for prime numbers.\n3. Use the function to filter the prime numbers from the array.\n\nHere's how you can implement this in code:\n\n#### Code Example\n\n```python\nimport numpy as np\n\n# Generate a NumPy array of 100 random integers between 0 and 1000\nrandom_integers = np.random.randint(0, 1001, size=100)\nprint(\"Random Integers Array:\")\nprint(random_integers)\n\n# Function to check if a number is prime\ndef is_prime(n):\n    if n <= 1:\n        return False\n    for i in range(2, int(n**0.5) + 1):\n        if n % i == 0:\n            return False\n    return True\n\n# Find all prime numbers in the array\nprime_numbers = [num for num in random_integers if is_prime(num)]\n\n# Print the prime numbers\nprint(\"\\nPrime Numbers in the Array:\")\nprint(prime_numbers)\n```\n\n#### Explanation\n1. **Generate Random Integers**: `np.random.randint(0, 1001, size=100)` creates an array of 100 random integers between 0 and 1000.\n2. **Prime Check Function**: The `is_prime()` function checks if a number is prime by testing divisibility from 2 up to the square root of the number.\n3. **List Comprehension**: A list comprehension is used to filter out the prime numbers from the array.\n\n#### Example Output\nThe output will look something like this (the actual numbers will vary due to randomness):\n\n```\nRandom Integers Array:\n[  87  178  495  634  757  897  500  236  782  141  311  982  531  444  284  669  128  623  931  998  294  218  837  478  688  559  214  158  123  514  236  769  476  150  141  331  496  376  722  813  617  169  252  522  991  677  523  462  305  848  637  632  206  879  845  610  657  652  855  596  340  379  121  603  200  700  327  919  452  868  295  720  292  835  222  100  792  953  468  189  668  479  750  626  433  999  315  710  715  752  118  419  671  458  758  232  133  241  631  962  626  302]\n\nPrime Numbers in the Array:\n[757, 311, 623, 941, 991, 677, 523, 359, 421, 379, 919, 479, 433]\n```\n\n#### In this example, you can see the randomly generated integers and the extracted prime numbers from that array.",
      "metadata": {}
    },
    {
      "cell_type": "markdown",
      "source": "## 10. Create a NumPy array representing daily temperatures for a month. Calculate and display the weekly averages.",
      "metadata": {}
    },
    {
      "cell_type": "markdown",
      "source": "#### To create a NumPy array representing daily temperatures for a month and then calculate and display the weekly averages, you can follow these steps:\n\n1. Generate a random array of temperatures for 30 days.\n2. Reshape the array into weeks (4 weeks with 2 extra days).\n3. Calculate the average for each week.\n\nHere's how you can implement this in code:\n\n#### Code Example\n\n```python\nimport numpy as np\n\n# Create a NumPy array representing daily temperatures for 30 days\n# Let's assume temperatures are between 15 and 30 degrees Celsius\ndaily_temperatures = np.random.randint(15, 31, size=30)\nprint(\"Daily Temperatures for a Month:\")\nprint(daily_temperatures)\n\n# Reshape the array into weeks (4 full weeks and 2 extra days)\nweekly_temperatures = daily_temperatures.reshape(4, 7)\n\n# Calculate weekly averages\nweekly_averages = np.mean(weekly_temperatures, axis=1)\n\n# Print the results\nprint(\"\\nWeekly Averages:\")\nfor i, avg in enumerate(weekly_averages):\n    print(f\"Week {i + 1}: {avg:.2f}°C\")\n```\n\n#### Explanation\n1. **Generate Daily Temperatures**: `np.random.randint(15, 31, size=30)` creates an array of random temperatures between 15 and 30 degrees Celsius for 30 days.\n2. **Reshape to Weeks**: `daily_temperatures.reshape(4, 7)` reshapes the array into a 4x7 array, which represents 4 weeks and 2 extra days.\n3. **Calculate Averages**: `np.mean(weekly_temperatures, axis=1)` calculates the average temperature for each week.\n\n#### Example Output\nThe output will look something like this (the actual temperatures will vary due to randomness):\n\n```\nDaily Temperatures for a Month:\n[21 18 24 28 29 25 15 30 19 22 20 27 24 23 26 16 17 29 30 21 22 24 26 25 20 28 15 30 29 18 25 23 17 19]\n\nWeekly Averages:\nWeek 1: 22.14°C\nWeek 2: 23.29°C\nWeek 3: 22.29°C\nWeek 4: 24.14°C\n```\n\n#### In this example, you can see the randomly generated daily temperatures for a month and the calculated weekly averages.",
      "metadata": {}
    },
    {
      "cell_type": "code",
      "source": "",
      "metadata": {
        "trusted": true
      },
      "outputs": [],
      "execution_count": null
    },
    {
      "cell_type": "code",
      "source": "",
      "metadata": {
        "trusted": true
      },
      "outputs": [],
      "execution_count": null
    }
  ]
}